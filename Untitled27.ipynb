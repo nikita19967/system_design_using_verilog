{
 "cells": [
  {
   "cell_type": "code",
   "execution_count": 16,
   "id": "3435532c",
   "metadata": {},
   "outputs": [],
   "source": [
    "import pandas"
   ]
  },
  {
   "cell_type": "code",
   "execution_count": 15,
   "id": "4fffcf15",
   "metadata": {},
   "outputs": [
    {
     "name": "stdout",
     "output_type": "stream",
     "text": [
      " the value should be either 1 or 0\n",
      "Enter the value of i1=1\n",
      "Enter the value of i2=1\n"
     ]
    },
    {
     "data": {
      "text/plain": [
       "'1'"
      ]
     },
     "execution_count": 15,
     "metadata": {},
     "output_type": "execute_result"
    }
   ],
   "source": [
    "def AND_gate(i1,i2):\n",
    "    if i1==1 & i2==1:\n",
    "        return 1\n",
    "    else:\n",
    "        return 0\n",
    "       \n",
    "    \n",
    "print(\" the value should be either 1 or 0\")\n",
    "input(\"Enter the value of i1=\")\n",
    "input(\"Enter the value of i2=\")\n",
    "    "
   ]
  },
  {
   "cell_type": "code",
   "execution_count": null,
   "id": "9a1c0539",
   "metadata": {},
   "outputs": [],
   "source": []
  }
 ],
 "metadata": {
  "kernelspec": {
   "display_name": "Python 3 (ipykernel)",
   "language": "python",
   "name": "python3"
  },
  "language_info": {
   "codemirror_mode": {
    "name": "ipython",
    "version": 3
   },
   "file_extension": ".py",
   "mimetype": "text/x-python",
   "name": "python",
   "nbconvert_exporter": "python",
   "pygments_lexer": "ipython3",
   "version": "3.9.7"
  }
 },
 "nbformat": 4,
 "nbformat_minor": 5
}
